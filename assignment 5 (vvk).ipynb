{
 "cells": [
  {
   "cell_type": "code",
   "execution_count": 1,
   "id": "4add9825",
   "metadata": {},
   "outputs": [],
   "source": [
    "1.What does an empty dictionary's code look like?"
   ]
  },
  {
   "cell_type": "code",
   "execution_count": null,
   "id": "bf6acbcc",
   "metadata": {},
   "outputs": [],
   "source": [
    "Ans.Two curly brackets: {}\n",
    "   "
   ]
  },
  {
   "cell_type": "code",
   "execution_count": null,
   "id": "6eec4b44",
   "metadata": {},
   "outputs": [],
   "source": [
    "2. What is the value of a dictionary value with the key 'foo' and the value 42?"
   ]
  },
  {
   "cell_type": "code",
   "execution_count": 5,
   "id": "5e99847e",
   "metadata": {},
   "outputs": [],
   "source": [
    "#Ans.\n",
    "v={'foo':42}"
   ]
  },
  {
   "cell_type": "code",
   "execution_count": 7,
   "id": "ee979212",
   "metadata": {},
   "outputs": [
    {
     "data": {
      "text/plain": [
       "42"
      ]
     },
     "execution_count": 7,
     "metadata": {},
     "output_type": "execute_result"
    }
   ],
   "source": [
    "v['foo']"
   ]
  },
  {
   "cell_type": "code",
   "execution_count": null,
   "id": "8590f9db",
   "metadata": {},
   "outputs": [],
   "source": [
    "3.What is the most significant distinction between a dictionary and a list?"
   ]
  },
  {
   "cell_type": "code",
   "execution_count": null,
   "id": "fc7c2955",
   "metadata": {},
   "outputs": [],
   "source": [
    "Ans.Dictionaries are unordered collection of data points. It uses key, value structure to store the values.\n",
    "\n",
    "Lists have ordered items\n"
   ]
  },
  {
   "cell_type": "code",
   "execution_count": 11,
   "id": "1d5d5e91",
   "metadata": {},
   "outputs": [
    {
     "data": {
      "text/plain": [
       "{'foo': 43, 'va': 42, 'a': 3}"
      ]
     },
     "execution_count": 11,
     "metadata": {},
     "output_type": "execute_result"
    }
   ],
   "source": [
    "my_dict = {'foo' : 43, 'va' : 42, 'a':3}\n",
    "my_dict"
   ]
  },
  {
   "cell_type": "code",
   "execution_count": 15,
   "id": "0b201d30",
   "metadata": {},
   "outputs": [
    {
     "data": {
      "text/plain": [
       "(23, 45, 34.56, (43+3j))"
      ]
     },
     "execution_count": 15,
     "metadata": {},
     "output_type": "execute_result"
    }
   ],
   "source": [
    "my_list=(23,45,34.56,43+3j)\n",
    "my_list"
   ]
  },
  {
   "cell_type": "code",
   "execution_count": null,
   "id": "12f5bd5b",
   "metadata": {},
   "outputs": [],
   "source": [
    "4.What happens if you try to access spam['foo'] if spam is {'bar': 100}?"
   ]
  },
  {
   "cell_type": "code",
   "execution_count": 3,
   "id": "231eee8c",
   "metadata": {},
   "outputs": [],
   "source": [
    "#Ans.\n",
    "spam={'bar':100} "
   ]
  },
  {
   "cell_type": "code",
   "execution_count": 4,
   "id": "ae532367",
   "metadata": {},
   "outputs": [
    {
     "ename": "KeyError",
     "evalue": "'foo'",
     "output_type": "error",
     "traceback": [
      "\u001b[1;31m---------------------------------------------------------------------------\u001b[0m",
      "\u001b[1;31mKeyError\u001b[0m                                  Traceback (most recent call last)",
      "\u001b[1;32m~\\AppData\\Local\\Temp/ipykernel_19040/3999281786.py\u001b[0m in \u001b[0;36m<module>\u001b[1;34m\u001b[0m\n\u001b[1;32m----> 1\u001b[1;33m \u001b[0mspam\u001b[0m\u001b[1;33m[\u001b[0m\u001b[1;34m'foo'\u001b[0m\u001b[1;33m]\u001b[0m\u001b[1;33m\u001b[0m\u001b[1;33m\u001b[0m\u001b[0m\n\u001b[0m",
      "\u001b[1;31mKeyError\u001b[0m: 'foo'"
     ]
    }
   ],
   "source": [
    "spam['foo']"
   ]
  },
  {
   "cell_type": "code",
   "execution_count": null,
   "id": "e894dbd3",
   "metadata": {},
   "outputs": [],
   "source": [
    "We get a KeyError error."
   ]
  },
  {
   "cell_type": "code",
   "execution_count": null,
   "id": "96ae575b",
   "metadata": {},
   "outputs": [],
   "source": [
    "5.If a dictionary is stored in spam, what is the difference between the expressions 'cat' in spam and 'cat' in spam.keys()?\n"
   ]
  },
  {
   "cell_type": "code",
   "execution_count": null,
   "id": "54be5f03",
   "metadata": {},
   "outputs": [],
   "source": [
    "Ans.There is no difference. The in operator checks whether a value exists as a key in the dictionary."
   ]
  },
  {
   "cell_type": "code",
   "execution_count": null,
   "id": "13593ea1",
   "metadata": {},
   "outputs": [],
   "source": [
    "6. If a dictionary is stored in spam, what is the difference between the expressions 'cat' in spam and 'cat' in spam.values()?"
   ]
  },
  {
   "cell_type": "code",
   "execution_count": null,
   "id": "7ba03b7f",
   "metadata": {},
   "outputs": [],
   "source": [
    "Ans.'cat' in spam checks whether there is a 'cat' key in the dictionary, while 'cat' in spam.values() checks whether there is a value 'cat' for one of the keys in spam."
   ]
  },
  {
   "cell_type": "code",
   "execution_count": null,
   "id": "a432842d",
   "metadata": {},
   "outputs": [],
   "source": [
    "7.What is a shortcut for the following code?"
   ]
  },
  {
   "cell_type": "code",
   "execution_count": 11,
   "id": "28818395",
   "metadata": {},
   "outputs": [],
   "source": [
    "if 'color' not in spam:\n",
    "    spam['color'] = 'black'"
   ]
  },
  {
   "cell_type": "code",
   "execution_count": 12,
   "id": "fbdb50e4",
   "metadata": {},
   "outputs": [
    {
     "data": {
      "text/plain": [
       "'black'"
      ]
     },
     "execution_count": 12,
     "metadata": {},
     "output_type": "execute_result"
    }
   ],
   "source": [
    "spam = {}\n",
    "spam.setdefault('color', 'black')"
   ]
  },
  {
   "cell_type": "code",
   "execution_count": 13,
   "id": "15dcd0c8",
   "metadata": {},
   "outputs": [
    {
     "data": {
      "text/plain": [
       "{'color': 'black'}"
      ]
     },
     "execution_count": 13,
     "metadata": {},
     "output_type": "execute_result"
    }
   ],
   "source": [
    "spam"
   ]
  },
  {
   "cell_type": "code",
   "execution_count": null,
   "id": "03467f97",
   "metadata": {},
   "outputs": [],
   "source": [
    "#shortcut is setdefault"
   ]
  },
  {
   "cell_type": "code",
   "execution_count": null,
   "id": "fd5badb5",
   "metadata": {},
   "outputs": [],
   "source": [
    "8. How do you \"pretty print\" dictionary values using which module and function?"
   ]
  },
  {
   "cell_type": "code",
   "execution_count": null,
   "id": "c97fcf7b",
   "metadata": {},
   "outputs": [],
   "source": [
    "Ans.pprint.pprint()"
   ]
  }
 ],
 "metadata": {
  "kernelspec": {
   "display_name": "Python 3 (ipykernel)",
   "language": "python",
   "name": "python3"
  },
  "language_info": {
   "codemirror_mode": {
    "name": "ipython",
    "version": 3
   },
   "file_extension": ".py",
   "mimetype": "text/x-python",
   "name": "python",
   "nbconvert_exporter": "python",
   "pygments_lexer": "ipython3",
   "version": "3.9.7"
  }
 },
 "nbformat": 4,
 "nbformat_minor": 5
}
